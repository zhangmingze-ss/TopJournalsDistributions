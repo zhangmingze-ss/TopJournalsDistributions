{
 "cells": [
  {
   "cell_type": "code",
   "execution_count": null,
   "id": "f5eb6fea-d565-44d4-a964-dd55c17e2362",
   "metadata": {},
   "outputs": [],
   "source": [
    "import pandas as pd"
   ]
  },
  {
   "cell_type": "code",
   "execution_count": null,
   "id": "9524ceae-c1eb-4c82-8f08-e702c5571c4f",
   "metadata": {},
   "outputs": [
    {
     "name": "stdout",
     "output_type": "stream",
     "text": [
      "(260811, 4)\n"
     ]
    },
    {
     "data": {
      "text/plain": [
       "Index(['id', 'issn_l', 'issn', 'display_name'], dtype='object')"
      ]
     },
     "execution_count": 10,
     "metadata": {},
     "output_type": "execute_result"
    }
   ],
   "source": [
    "Source = r'/Users/mingzezhang/Downloads/OpenAlex_202501/sources.csv.gz'\n",
    "Source_columns = ['id', 'issn_l', 'issn', 'display_name']\n",
    "Sdf = pd.read_csv(Source, usecols = Source_columns)\n",
    "print(Sdf .shape)\n",
    "Sdf .columns"
   ]
  },
  {
   "cell_type": "code",
   "execution_count": 11,
   "id": "9fffb6da-cf7b-4c15-9d98-34e8c7159c54",
   "metadata": {},
   "outputs": [
    {
     "name": "stdout",
     "output_type": "stream",
     "text": [
      "(3, 4)\n"
     ]
    },
    {
     "data": {
      "text/html": [
       "<div>\n",
       "<style scoped>\n",
       "    .dataframe tbody tr th:only-of-type {\n",
       "        vertical-align: middle;\n",
       "    }\n",
       "\n",
       "    .dataframe tbody tr th {\n",
       "        vertical-align: top;\n",
       "    }\n",
       "\n",
       "    .dataframe thead th {\n",
       "        text-align: right;\n",
       "    }\n",
       "</style>\n",
       "<table border=\"1\" class=\"dataframe\">\n",
       "  <thead>\n",
       "    <tr style=\"text-align: right;\">\n",
       "      <th></th>\n",
       "      <th>id</th>\n",
       "      <th>issn_l</th>\n",
       "      <th>issn</th>\n",
       "      <th>display_name</th>\n",
       "    </tr>\n",
       "  </thead>\n",
       "  <tbody>\n",
       "    <tr>\n",
       "      <th>199840</th>\n",
       "      <td>https://openalex.org/S137773608</td>\n",
       "      <td>0028-0836</td>\n",
       "      <td>[\"0028-0836\", \"1476-4687\"]</td>\n",
       "      <td>Nature</td>\n",
       "    </tr>\n",
       "    <tr>\n",
       "      <th>209160</th>\n",
       "      <td>https://openalex.org/S125754415</td>\n",
       "      <td>0027-8424</td>\n",
       "      <td>[\"0027-8424\", \"1091-6490\"]</td>\n",
       "      <td>Proceedings of the National Academy of Sciences</td>\n",
       "    </tr>\n",
       "    <tr>\n",
       "      <th>209161</th>\n",
       "      <td>https://openalex.org/S3880285</td>\n",
       "      <td>0036-8075</td>\n",
       "      <td>[\"0036-8075\", \"1095-9203\"]</td>\n",
       "      <td>Science</td>\n",
       "    </tr>\n",
       "  </tbody>\n",
       "</table>\n",
       "</div>"
      ],
      "text/plain": [
       "                                     id     issn_l  \\\n",
       "199840  https://openalex.org/S137773608  0028-0836   \n",
       "209160  https://openalex.org/S125754415  0027-8424   \n",
       "209161    https://openalex.org/S3880285  0036-8075   \n",
       "\n",
       "                              issn  \\\n",
       "199840  [\"0028-0836\", \"1476-4687\"]   \n",
       "209160  [\"0027-8424\", \"1091-6490\"]   \n",
       "209161  [\"0036-8075\", \"1095-9203\"]   \n",
       "\n",
       "                                           display_name  \n",
       "199840                                           Nature  \n",
       "209160  Proceedings of the National Academy of Sciences  \n",
       "209161                                          Science  "
      ]
     },
     "execution_count": 11,
     "metadata": {},
     "output_type": "execute_result"
    }
   ],
   "source": [
    "SNP_ID = ['0027-8424','0028-0836','0036-8075']\n",
    "SNPdf = Sdf[Sdf['issn_l'].isin(SNP_ID)]\n",
    "print(SNPdf .shape)\n",
    "SNP_ID = SNPdf['id']\n",
    "SNPdf .head(3)"
   ]
  },
  {
   "cell_type": "code",
   "execution_count": 12,
   "id": "4a937d7c-88ab-4eaa-920d-251e18627700",
   "metadata": {},
   "outputs": [
    {
     "name": "stdout",
     "output_type": "stream",
     "text": [
      "(169402, 2)\n",
      "(317495, 2)\n",
      "(157832, 2)\n",
      "(289724, 2)\n",
      "(59545, 2)\n",
      "(993998, 2)\n"
     ]
    }
   ],
   "source": [
    "Work_source = r'/Users/mingzezhang/Downloads/OpenAlex_202501/works_primary_locations.csv.gz'\n",
    "Work_source_columns = ['work_id', 'source_id']\n",
    "chunk_size = 50000000\n",
    "WSdf = pd.DataFrame()\n",
    "\n",
    "for chunk in pd.read_csv(Work_source, usecols = Work_source_columns, chunksize = chunk_size, compression = 'gzip'):\n",
    "    chunk = chunk[chunk['source_id'].isin(SNP_ID)]\n",
    "    print(chunk .shape)\n",
    "    WSdf = pd.concat([WSdf, chunk], ignore_index = True)\n",
    "    del chunk\n",
    "\n",
    "print(WSdf .shape)"
   ]
  },
  {
   "cell_type": "code",
   "execution_count": 14,
   "id": "f2139a40-7265-4037-aeea-cc7a1c89787b",
   "metadata": {},
   "outputs": [
    {
     "data": {
      "text/plain": [
       "Index(['work_id', 'source_id', 'Journal'], dtype='object')"
      ]
     },
     "execution_count": 14,
     "metadata": {},
     "output_type": "execute_result"
    }
   ],
   "source": [
    "WSdf = WSdf .merge(SNPdf[['id','display_name']],\n",
    "                   how = 'left', left_on = 'source_id', right_on = 'id')\n",
    "del WSdf['id']\n",
    "WSdf = WSdf .rename(columns = {'display_name':'Journal'})\n",
    "WSdf .columns"
   ]
  },
  {
   "cell_type": "code",
   "execution_count": null,
   "id": "3ec8681e-1ebb-4d22-81bf-58c651886c0d",
   "metadata": {},
   "outputs": [
    {
     "name": "stdout",
     "output_type": "stream",
     "text": [
      "(137776, 3)\n",
      "(283114, 3)\n",
      "(133630, 3)\n",
      "(150114, 3)\n",
      "(231830, 3)\n",
      "(57534, 3)\n",
      "(993998, 3)\n"
     ]
    }
   ],
   "source": [
    "Works = r'/Users/mingzezhang/Downloads/OpenAlex_202501/works.csv.gz'\n",
    "Works_columns = ['id','publication_year','type']\n",
    "chunk_size = 50000000\n",
    "Wdf = pd.DataFrame()\n",
    "\n",
    "for chunk in pd.read_csv(Works, usecols = Works_columns, chunksize = chunk_size, compression = 'gzip'):\n",
    "    chunk = chunk[chunk['id'].isin(WSdf['work_id'].drop_duplicates())]\n",
    "    print(chunk .shape)\n",
    "    Wdf = pd.concat([Wdf, chunk], ignore_index = True)\n",
    "    del chunk\n",
    "\n",
    "print(Wdf .shape)"
   ]
  },
  {
   "cell_type": "code",
   "execution_count": 21,
   "id": "84ad3db0-2a31-40fe-96f3-cde3177d90e5",
   "metadata": {},
   "outputs": [
    {
     "data": {
      "text/plain": [
       "Index(['work_id', 'PublishedYear', 'DocumentType'], dtype='object')"
      ]
     },
     "execution_count": 21,
     "metadata": {},
     "output_type": "execute_result"
    }
   ],
   "source": [
    "Wdf = Wdf .rename(columns= {'id':'work_id','publication_year':'PublishedYear','type':'DocumentType'})\n",
    "Wdf .columns"
   ]
  },
  {
   "cell_type": "code",
   "execution_count": 22,
   "id": "3f583398-164f-4f49-b2e3-402a880e6447",
   "metadata": {},
   "outputs": [
    {
     "name": "stdout",
     "output_type": "stream",
     "text": [
      "(993998, 4)\n"
     ]
    }
   ],
   "source": [
    "Wdf = Wdf .merge(WSdf[['work_id','Journal']], how = 'left', left_on = 'work_id', right_on = 'work_id')\n",
    "print(Wdf .shape) "
   ]
  },
  {
   "cell_type": "code",
   "execution_count": 23,
   "id": "40bac4ac-4668-40e8-9d45-7ffb21290cdf",
   "metadata": {},
   "outputs": [],
   "source": [
    "Wdf .to_csv(r'/Users/mingzezhang/Downloads/Revision_Paper/CNS-JIS_Revision/Data/0-Publications.csv')"
   ]
  },
  {
   "cell_type": "code",
   "execution_count": null,
   "id": "0e95d8ae-cb80-4bb0-af92-01c5939601a8",
   "metadata": {},
   "outputs": [
    {
     "name": "stdout",
     "output_type": "stream",
     "text": [
      "(61346, 4)\n",
      "(72755, 4)\n",
      "(182700, 4)\n",
      "(205866, 4)\n",
      "(229530, 4)\n",
      "(129710, 4)\n"
     ]
    },
    {
     "name": "stderr",
     "output_type": "stream",
     "text": [
      "/var/folders/4g/t694bx_s0353zx81yggk1p680000gn/T/ipykernel_53983/628230460.py:8: DtypeWarning: Columns (3) have mixed types. Specify dtype option on import or set low_memory=False.\n",
      "  for chunk in pd.read_csv(Work_Authorship, usecols = Work_Authorship_columns, chunksize = chunk_size, compression = 'gzip'):\n"
     ]
    },
    {
     "name": "stdout",
     "output_type": "stream",
     "text": [
      "(100132, 4)\n",
      "(228896, 4)\n",
      "(142163, 4)\n",
      "(217032, 4)\n"
     ]
    },
    {
     "name": "stderr",
     "output_type": "stream",
     "text": [
      "/var/folders/4g/t694bx_s0353zx81yggk1p680000gn/T/ipykernel_53983/628230460.py:8: DtypeWarning: Columns (3) have mixed types. Specify dtype option on import or set low_memory=False.\n",
      "  for chunk in pd.read_csv(Work_Authorship, usecols = Work_Authorship_columns, chunksize = chunk_size, compression = 'gzip'):\n"
     ]
    },
    {
     "name": "stdout",
     "output_type": "stream",
     "text": [
      "(90411, 4)\n",
      "(172641, 4)\n",
      "(733327, 4)\n"
     ]
    },
    {
     "name": "stderr",
     "output_type": "stream",
     "text": [
      "/var/folders/4g/t694bx_s0353zx81yggk1p680000gn/T/ipykernel_53983/628230460.py:8: DtypeWarning: Columns (3) have mixed types. Specify dtype option on import or set low_memory=False.\n",
      "  for chunk in pd.read_csv(Work_Authorship, usecols = Work_Authorship_columns, chunksize = chunk_size, compression = 'gzip'):\n"
     ]
    },
    {
     "name": "stdout",
     "output_type": "stream",
     "text": [
      "(70289, 4)\n",
      "(398488, 4)\n"
     ]
    },
    {
     "name": "stderr",
     "output_type": "stream",
     "text": [
      "/var/folders/4g/t694bx_s0353zx81yggk1p680000gn/T/ipykernel_53983/628230460.py:8: DtypeWarning: Columns (3) have mixed types. Specify dtype option on import or set low_memory=False.\n",
      "  for chunk in pd.read_csv(Work_Authorship, usecols = Work_Authorship_columns, chunksize = chunk_size, compression = 'gzip'):\n"
     ]
    },
    {
     "name": "stdout",
     "output_type": "stream",
     "text": [
      "(383935, 4)\n",
      "(3419221, 4)\n"
     ]
    }
   ],
   "source": [
    "Work_Authorship = r'/Users/mingzezhang/Downloads/OpenAlex_202501/works_authorships.csv.gz'\n",
    "Work_Authorship_columns = ['work_id','author_id','author_position','institution_id']\n",
    "WAdf = pd.DataFrame()\n",
    "chunk_size = 50000000\n",
    "\n",
    "for chunk in pd.read_csv(Work_Authorship, usecols = Work_Authorship_columns, chunksize = chunk_size, compression = 'gzip'):\n",
    "    chunk = chunk[chunk['work_id'].isin(Wdf['work_id'].drop_duplicates())]\n",
    "    print(chunk .shape)\n",
    "    WAdf = pd.concat([WAdf, chunk], ignore_index = True)\n",
    "    del chunk\n",
    "\n",
    "print(WAdf .shape)"
   ]
  },
  {
   "cell_type": "code",
   "execution_count": 25,
   "id": "af029ba1-9337-4e4a-bfc3-88118bf2fb24",
   "metadata": {},
   "outputs": [],
   "source": [
    "WAdf .to_csv(r'/Users/mingzezhang/Downloads/Revision_Paper/CNS-JIS_Revision/Data/1-Work_Authorship.csv')"
   ]
  },
  {
   "cell_type": "code",
   "execution_count": null,
   "id": "fdde4334-e49d-4d0d-8c03-fccf4c84b436",
   "metadata": {},
   "outputs": [
    {
     "name": "stdout",
     "output_type": "stream",
     "text": [
      "(72963, 3)\n",
      "(146061, 3)\n",
      "(399390, 3)\n",
      "(133168, 3)\n",
      "(96808, 3)\n",
      "(141784, 3)\n",
      "(104665, 3)\n",
      "(212938, 3)\n",
      "(109819, 3)\n",
      "(310432, 3)\n",
      "(153266, 3)\n",
      "(1881294, 3)\n"
     ]
    }
   ],
   "source": [
    "Work_Topics = r'/Users/mingzezhang/Downloads/OpenAlex_202501/works_topics.csv.gz'\n",
    "Work_Topics_columns = ['work_id','topic_id','score']\n",
    "WTdf = pd.DataFrame()\n",
    "chunk_size = 50000000\n",
    "\n",
    "for chunk in pd.read_csv(Work_Topics, usecols = Work_Topics_columns, chunksize = chunk_size, compression = 'gzip'):\n",
    "    chunk = chunk[chunk['work_id'].isin(Wdf['work_id'].drop_duplicates())]\n",
    "    print(chunk .shape)\n",
    "    WTdf = pd.concat([WTdf, chunk], ignore_index = True)\n",
    "    del chunk\n",
    "\n",
    "print(WTdf .shape)"
   ]
  },
  {
   "cell_type": "code",
   "execution_count": 27,
   "id": "43075019-6629-4d22-a85d-96a22b209fc3",
   "metadata": {},
   "outputs": [],
   "source": [
    "WTdf .to_csv(r'/Users/mingzezhang/Downloads/Revision_Paper/CNS-JIS_Revision/Data/1-Work_Topics.csv')"
   ]
  }
 ],
 "metadata": {
  "kernelspec": {
   "display_name": "Python 3 (ipykernel)",
   "language": "python",
   "name": "python3"
  },
  "language_info": {
   "codemirror_mode": {
    "name": "ipython",
    "version": 3
   },
   "file_extension": ".py",
   "mimetype": "text/x-python",
   "name": "python",
   "nbconvert_exporter": "python",
   "pygments_lexer": "ipython3",
   "version": "3.11.8"
  }
 },
 "nbformat": 4,
 "nbformat_minor": 5
}
