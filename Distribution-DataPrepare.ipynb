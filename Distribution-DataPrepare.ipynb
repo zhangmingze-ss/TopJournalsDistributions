{
 "cells": [
  {
   "cell_type": "code",
   "execution_count": null,
   "id": "81188bb1-e049-44b6-8679-697f99b85da0",
   "metadata": {},
   "outputs": [],
   "source": [
    "import pandas as pd\n",
    "import numpy as np\n",
    "import seaborn as sns\n",
    "import matplotlib.pylab as plt\n",
    "from matplotlib.font_manager import FontProperties\n",
    "import pyscisci.all as pyscisci\n",
    "from brokenaxes import brokenaxes\n",
    "from matplotlib import gridspec\n",
    "from mpl_toolkits.axes_grid1 import make_axes_locatable\n",
    "from matplotlib.ticker import LogLocator\n",
    "from matplotlib.ticker import MultipleLocator\n",
    "import matplotlib.ticker as ticker\n",
    "from scipy.stats import norm, ks_2samp\n",
    "from collections import defaultdict\n",
    "EF = FontProperties(family = 'Arial')\n",
    "\n",
    "%matplotlib inline"
   ]
  },
  {
   "cell_type": "code",
   "execution_count": 14,
   "id": "139931c4-d4f8-44d0-ba8d-92d4607c2044",
   "metadata": {},
   "outputs": [
    {
     "name": "stdout",
     "output_type": "stream",
     "text": [
      "(993998, 5)\n"
     ]
    },
    {
     "data": {
      "text/plain": [
       "Index(['work_id', 'PublishedYear', 'DocumentType', 'Journal'], dtype='object')"
      ]
     },
     "execution_count": 14,
     "metadata": {},
     "output_type": "execute_result"
    }
   ],
   "source": [
    "Publication = r'/Users/mingzezhang/Downloads/0-Publications.csv'\n",
    "Pdf = pd.read_csv(Publication)\n",
    "print(Pdf .shape)\n",
    "del Pdf['Unnamed: 0']\n",
    "Pdf .columns"
   ]
  },
  {
   "cell_type": "code",
   "execution_count": 15,
   "id": "1c9b179d-4ac6-4d14-b028-3485339d7b1f",
   "metadata": {},
   "outputs": [
    {
     "name": "stdout",
     "output_type": "stream",
     "text": [
      "(928321, 4)\n"
     ]
    }
   ],
   "source": [
    "Pdf = Pdf[Pdf['PublishedYear']<=2023]\n",
    "# Article Type\n",
    "Pdf = Pdf[Pdf['DocumentType']=='article']\n",
    "print(Pdf .shape)"
   ]
  },
  {
   "cell_type": "code",
   "execution_count": 16,
   "id": "62aa4468-4830-4212-87e3-d7b2a2f5b369",
   "metadata": {},
   "outputs": [
    {
     "data": {
      "text/plain": [
       "Journal\n",
       "Nature                                             412342\n",
       "Science                                            363947\n",
       "Proceedings of the National Academy of Sciences    152032\n",
       "Name: count, dtype: int64"
      ]
     },
     "execution_count": 16,
     "metadata": {},
     "output_type": "execute_result"
    }
   ],
   "source": [
    "Pdf['Journal'].value_counts()"
   ]
  },
  {
   "cell_type": "code",
   "execution_count": 4,
   "id": "75819159-c493-46a3-a222-b3dbbaed7f97",
   "metadata": {},
   "outputs": [
    {
     "name": "stdout",
     "output_type": "stream",
     "text": [
      "(3419221, 4)\n"
     ]
    },
    {
     "data": {
      "text/plain": [
       "Index(['work_id', 'author_position', 'author_id', 'institution_id'], dtype='object')"
      ]
     },
     "execution_count": 4,
     "metadata": {},
     "output_type": "execute_result"
    }
   ],
   "source": [
    "Works_authorship = r'/Users/mingzezhang/Downloads/1-Work_Authorship.csv'\n",
    "WAdf = pd.read_csv(Works_authorship)\n",
    "del WAdf['Unnamed: 0']\n",
    "print(WAdf .shape)\n",
    "WAdf .columns"
   ]
  },
  {
   "cell_type": "code",
   "execution_count": null,
   "id": "ffc6ebf9-c0f3-441f-ac27-adc3f79ac489",
   "metadata": {},
   "outputs": [
    {
     "name": "stdout",
     "output_type": "stream",
     "text": [
      "(2484365, 4)\n",
      "(1653692, 4)\n"
     ]
    }
   ],
   "source": [
    "WAdf = WAdf .drop_duplicates(subset = ['work_id','author_id'])\n",
    "print(WAdf .shape)\n",
    "\n",
    "WAdf['institution_id'] = WAdf['institution_id'].fillna(0)\n",
    "WAdf_na = WAdf[WAdf['institution_id']==0]\n",
    "WAdf = WAdf[~WAdf['work_id'].isin(WAdf_na['work_id'].drop_duplicates())]\n",
    "print(WAdf .shape)"
   ]
  },
  {
   "cell_type": "code",
   "execution_count": 6,
   "id": "cf608d44-e34d-4a5d-ab3b-28a0f6f4fa0b",
   "metadata": {},
   "outputs": [
    {
     "name": "stdout",
     "output_type": "stream",
     "text": [
      "(407120, 4)\n"
     ]
    }
   ],
   "source": [
    "Pdf = Pdf[Pdf['work_id'].isin(WAdf['work_id'].drop_duplicates())]\n",
    "print(Pdf .shape)"
   ]
  },
  {
   "cell_type": "code",
   "execution_count": 8,
   "id": "1723e501-e583-4382-86e9-93be8a46b88a",
   "metadata": {},
   "outputs": [
    {
     "name": "stdout",
     "output_type": "stream",
     "text": [
      "(1509324, 4)\n"
     ]
    }
   ],
   "source": [
    "WAdf = WAdf[WAdf['work_id'].isin(Pdf['work_id'].drop_duplicates())]\n",
    "print(WAdf .shape)"
   ]
  },
  {
   "cell_type": "code",
   "execution_count": 9,
   "id": "01d9aa37-8692-45d2-b5ae-a340b9ae8bdc",
   "metadata": {},
   "outputs": [],
   "source": [
    "WAdf = WAdf .merge(Pdf[['work_id','Journal']],\n",
    "                   how = 'left', left_on = 'work_id', right_on = 'work_id')"
   ]
  },
  {
   "cell_type": "code",
   "execution_count": 10,
   "id": "cac1923f-436c-40ac-9f76-81f3f87f0851",
   "metadata": {},
   "outputs": [
    {
     "data": {
      "text/plain": [
       "Index(['work_id', 'author_position', 'author_id', 'institution_id', 'Journal'], dtype='object')"
      ]
     },
     "execution_count": 10,
     "metadata": {},
     "output_type": "execute_result"
    }
   ],
   "source": [
    "WAdf .columns"
   ]
  },
  {
   "cell_type": "code",
   "execution_count": 12,
   "id": "c58200c0-a081-4875-a2f2-81be060c5194",
   "metadata": {},
   "outputs": [
    {
     "name": "stdout",
     "output_type": "stream",
     "text": [
      "(20723, 2)\n",
      "(1509324, 6)\n"
     ]
    }
   ],
   "source": [
    "Inst = r'/Users/mingzezhang/Downloads/Data_OpenAlex_202501/institutions_geo.csv.gz'\n",
    "Inst_columns = ['institution_id','country_code']\n",
    "chunk_size = 50000000\n",
    "Instdf = pd.DataFrame()\n",
    "for chunk in pd.read_csv(Inst, usecols = Inst_columns, chunksize = chunk_size, compression = 'gzip'):\n",
    "    chunk = chunk[chunk['institution_id'].isin(WAdf['institution_id'].drop_duplicates())]\n",
    "    print(chunk .shape)\n",
    "    Instdf = pd.concat([Instdf, chunk], ignore_index = True)\n",
    "    del chunk\n",
    "Instdf .columns\n",
    "\n",
    "WAdf = WAdf .merge(Instdf[['institution_id','country_code']],\n",
    "                   how = 'left', left_on = 'institution_id', right_on = 'institution_id')\n",
    "print(WAdf .shape)"
   ]
  },
  {
   "cell_type": "code",
   "execution_count": 13,
   "id": "159e3fc5-d810-4574-b749-c828058e2937",
   "metadata": {},
   "outputs": [],
   "source": [
    "WAdf .to_csv(r'/Users/mingzezhang/Downloads/BasicDataforDistribution.csv')"
   ]
  }
 ],
 "metadata": {
  "kernelspec": {
   "display_name": "Python 3 (ipykernel)",
   "language": "python",
   "name": "python3"
  },
  "language_info": {
   "codemirror_mode": {
    "name": "ipython",
    "version": 3
   },
   "file_extension": ".py",
   "mimetype": "text/x-python",
   "name": "python",
   "nbconvert_exporter": "python",
   "pygments_lexer": "ipython3",
   "version": "3.11.8"
  }
 },
 "nbformat": 4,
 "nbformat_minor": 5
}
