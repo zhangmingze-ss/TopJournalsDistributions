{
 "cells": [
  {
   "cell_type": "code",
   "execution_count": null,
   "id": "97eb4204-5f61-4f4d-ab79-5d300de20279",
   "metadata": {},
   "outputs": [],
   "source": [
    "import pandas as pd\n",
    "import numpy as np\n",
    "import seaborn as sns\n",
    "import matplotlib.pylab as plt\n",
    "from matplotlib.font_manager import FontProperties\n",
    "import pyscisci.all as pyscisci\n",
    "from brokenaxes import brokenaxes\n",
    "from matplotlib import gridspec\n",
    "from mpl_toolkits.axes_grid1 import make_axes_locatable\n",
    "from matplotlib.ticker import LogLocator\n",
    "from matplotlib.ticker import MultipleLocator\n",
    "import matplotlib.ticker as ticker\n",
    "from scipy.stats import norm, ks_2samp\n",
    "from collections import defaultdict\n",
    "EF = FontProperties(family = 'Arial')\n",
    "\n",
    "%matplotlib inline"
   ]
  },
  {
   "cell_type": "code",
   "execution_count": 42,
   "id": "ad39e30f-af24-4199-8e32-077700673669",
   "metadata": {},
   "outputs": [
    {
     "name": "stdout",
     "output_type": "stream",
     "text": [
      "(993998, 5)\n"
     ]
    },
    {
     "data": {
      "text/plain": [
       "Index(['work_id', 'PublishedYear', 'DocumentType', 'Journal'], dtype='object')"
      ]
     },
     "execution_count": 42,
     "metadata": {},
     "output_type": "execute_result"
    }
   ],
   "source": [
    "Publication = r' '\n",
    "Pdf = pd.read_csv(Publication)\n",
    "print(Pdf .shape)\n",
    "del Pdf['Unnamed: 0']\n",
    "Pdf .columns"
   ]
  },
  {
   "cell_type": "code",
   "execution_count": 48,
   "id": "a4a5fcc4-2c50-4560-9899-b36215734909",
   "metadata": {},
   "outputs": [
    {
     "name": "stdout",
     "output_type": "stream",
     "text": [
      "(407120, 4)\n"
     ]
    }
   ],
   "source": [
    "Pdf = Pdf[Pdf['PublishedYear']<=2023]\n",
    "# Article Type\n",
    "Pdf = Pdf[Pdf['DocumentType']=='article']\n",
    "print(Pdf .shape)"
   ]
  },
  {
   "cell_type": "code",
   "execution_count": 49,
   "id": "6fd83731-5678-4661-8ce8-9f1726e317a1",
   "metadata": {},
   "outputs": [
    {
     "name": "stdout",
     "output_type": "stream",
     "text": [
      "(3419221, 4)\n"
     ]
    },
    {
     "data": {
      "text/plain": [
       "Index(['work_id', 'author_position', 'author_id', 'institution_id'], dtype='object')"
      ]
     },
     "execution_count": 49,
     "metadata": {},
     "output_type": "execute_result"
    }
   ],
   "source": [
    "Works_authorship = r' '\n",
    "WAdf = pd.read_csv(Works_authorship)\n",
    "del WAdf['Unnamed: 0']\n",
    "print(WAdf .shape)\n",
    "WAdf .columns"
   ]
  },
  {
   "cell_type": "code",
   "execution_count": null,
   "id": "a8cbb9ec-5f93-435b-b832-07527654030d",
   "metadata": {},
   "outputs": [
    {
     "name": "stdout",
     "output_type": "stream",
     "text": [
      "(2484365, 4)\n"
     ]
    }
   ],
   "source": [
    "WAdf = WAdf .drop_duplicates(subset = ['work_id','author_id'])\n",
    "print(WAdf .shape)"
   ]
  },
  {
   "cell_type": "code",
   "execution_count": null,
   "id": "9219590d-fdcb-4c69-95b0-370dc0cf6d84",
   "metadata": {},
   "outputs": [
    {
     "name": "stdout",
     "output_type": "stream",
     "text": [
      "(1653692, 4)\n"
     ]
    }
   ],
   "source": [
    "WAdf['institution_id'] = WAdf['institution_id'].fillna(0)\n",
    "WAdf_na = WAdf[WAdf['institution_id']==0]\n",
    "WAdf = WAdf[~WAdf['work_id'].isin(WAdf_na['work_id'].drop_duplicates())]\n",
    "print(WAdf .shape)"
   ]
  },
  {
   "cell_type": "code",
   "execution_count": 52,
   "id": "a5e7b2ca-ceae-4989-9d9b-3cdccf9f9915",
   "metadata": {},
   "outputs": [
    {
     "name": "stdout",
     "output_type": "stream",
     "text": [
      "(407120, 4)\n"
     ]
    }
   ],
   "source": [
    "Pdf = Pdf[Pdf['work_id'].isin(WAdf['work_id'].drop_duplicates())]\n",
    "print(Pdf .shape)"
   ]
  },
  {
   "cell_type": "code",
   "execution_count": 53,
   "id": "16352950-4ec9-4d29-ab70-d3e70a21c913",
   "metadata": {},
   "outputs": [
    {
     "data": {
      "text/plain": [
       "Journal\n",
       "Nature                                             149786\n",
       "Science                                            134035\n",
       "Proceedings of the National Academy of Sciences    123299\n",
       "Name: count, dtype: int64"
      ]
     },
     "execution_count": 53,
     "metadata": {},
     "output_type": "execute_result"
    }
   ],
   "source": [
    "Pdf['Journal'].value_counts()"
   ]
  },
  {
   "cell_type": "code",
   "execution_count": 56,
   "id": "f5928955-2ba6-45e2-ba70-5e0a36a278a3",
   "metadata": {},
   "outputs": [
    {
     "data": {
      "text/plain": [
       "DocumentType\n",
       "article    407120\n",
       "Name: count, dtype: int64"
      ]
     },
     "execution_count": 56,
     "metadata": {},
     "output_type": "execute_result"
    }
   ],
   "source": [
    "Pdf['DocumentType'].value_counts()"
   ]
  },
  {
   "cell_type": "code",
   "execution_count": 55,
   "id": "039375c8-bd47-4943-90a6-f91dca22ec20",
   "metadata": {},
   "outputs": [
    {
     "name": "stdout",
     "output_type": "stream",
     "text": [
      "(1509324, 4)\n"
     ]
    }
   ],
   "source": [
    "WAdf = WAdf[WAdf['work_id'].isin(Pdf['work_id'].drop_duplicates())]\n",
    "print(WAdf .shape)"
   ]
  },
  {
   "cell_type": "code",
   "execution_count": 57,
   "id": "4934ac54-1c0e-4444-a826-2be5d444d1d1",
   "metadata": {},
   "outputs": [
    {
     "name": "stdout",
     "output_type": "stream",
     "text": [
      "(407120, 4)\n",
      "                                           Journal  author_id\n",
      "0                                           Nature      91387\n",
      "1  Proceedings of the National Academy of Sciences      99099\n",
      "2                                          Science      73190\n"
     ]
    }
   ],
   "source": [
    "WAdf_first_author = WAdf[WAdf['author_position']=='first']\n",
    "print(WAdf_first_author .shape)\n",
    "\n",
    "WAdf_first_author = WAdf_first_author .merge(Pdf[['work_id','Journal']],\n",
    "                                             how = 'left', left_on = 'work_id', right_on = 'work_id')\n",
    "Num_first_author = WAdf_first_author .groupby(['Journal'])['author_id'].nunique().reset_index()\n",
    "print(Num_first_author)"
   ]
  },
  {
   "cell_type": "code",
   "execution_count": 58,
   "id": "5f29ba9a-ca06-4493-94e8-d21dfb6aa123",
   "metadata": {},
   "outputs": [
    {
     "name": "stdout",
     "output_type": "stream",
     "text": [
      "(251822, 4)\n",
      "                                           Journal  author_id\n",
      "0                                           Nature      53921\n",
      "1  Proceedings of the National Academy of Sciences      55438\n",
      "2                                          Science      36793\n"
     ]
    }
   ],
   "source": [
    "WAdf_last_author = WAdf[WAdf['author_position']=='last']\n",
    "print(WAdf_last_author .shape)\n",
    "\n",
    "WAdf_last_author = WAdf_last_author .merge(Pdf[['work_id','Journal']],\n",
    "                                             how = 'left', left_on = 'work_id', right_on = 'work_id')\n",
    "Num_last_author = WAdf_last_author .groupby(['Journal'])['author_id'].nunique().reset_index()\n",
    "print(Num_last_author)"
   ]
  },
  {
   "cell_type": "code",
   "execution_count": 59,
   "id": "36f8a735-e328-453e-9e5b-7959631ad62e",
   "metadata": {},
   "outputs": [
    {
     "name": "stdout",
     "output_type": "stream",
     "text": [
      "                                           Journal  author_id\n",
      "0                                           Nature     270873\n",
      "1  Proceedings of the National Academy of Sciences     386580\n",
      "2                                          Science     213418\n"
     ]
    }
   ],
   "source": [
    "WAdf = WAdf .merge(Pdf[['work_id','Journal']],\n",
    "                   how = 'left', left_on = 'work_id', right_on = 'work_id')\n",
    "Num_author = WAdf .groupby(['Journal'])['author_id'].nunique().reset_index()\n",
    "print(Num_author)"
   ]
  },
  {
   "cell_type": "code",
   "execution_count": 61,
   "id": "3a48bf45-d545-4ca8-8ea7-d8d10715f151",
   "metadata": {},
   "outputs": [
    {
     "name": "stdout",
     "output_type": "stream",
     "text": [
      "(407120, 4)\n",
      "                                           Journal  institution_id\n",
      "0                                           Nature            9493\n",
      "1  Proceedings of the National Academy of Sciences            6437\n",
      "2                                          Science            7295\n"
     ]
    }
   ],
   "source": [
    "\n",
    "WAdf_first_institution = WAdf[['work_id','author_position','institution_id','Journal']]\n",
    "WAdf_first_institution = WAdf_first_institution[WAdf_first_institution['author_position']=='first']\n",
    "print(WAdf_first_institution .shape)\n",
    "\n",
    "Num_first_institution = WAdf_first_institution .groupby(['Journal'])['institution_id'].nunique().reset_index()\n",
    "print(Num_first_institution)"
   ]
  },
  {
   "cell_type": "code",
   "execution_count": 64,
   "id": "7829fa91-23c4-413a-a84a-947ff02e366a",
   "metadata": {},
   "outputs": [
    {
     "name": "stdout",
     "output_type": "stream",
     "text": [
      "(1509324, 3)\n",
      "                                           Journal  institution_id\n",
      "0                                           Nature           13367\n",
      "1  Proceedings of the National Academy of Sciences           11842\n",
      "2                                          Science           10768\n"
     ]
    }
   ],
   "source": [
    "WAdf .columns\n",
    "WAdf_institution = WAdf[['work_id','institution_id','Journal']]\n",
    "print(WAdf_institution .shape)\n",
    "\n",
    "Num_institution = WAdf_institution .groupby(['Journal'])['institution_id'].nunique().reset_index()\n",
    "print(Num_institution)"
   ]
  },
  {
   "cell_type": "code",
   "execution_count": 67,
   "id": "6b19fe2f-c813-4433-9c29-b60c406afe7c",
   "metadata": {},
   "outputs": [
    {
     "name": "stdout",
     "output_type": "stream",
     "text": [
      "(407120, 4)\n",
      "                                           Journal  PublishedYear\n",
      "0                                           Nature            155\n",
      "1  Proceedings of the National Academy of Sciences            109\n",
      "2                                          Science            144\n"
     ]
    }
   ],
   "source": [
    "print(Pdf .shape)\n",
    "Num_year = Pdf.groupby(['Journal'])['PublishedYear'].nunique().reset_index()\n",
    "print(Num_year)"
   ]
  },
  {
   "cell_type": "code",
   "execution_count": 69,
   "id": "e72ace2f-4740-40b2-a25d-92c884b679cc",
   "metadata": {},
   "outputs": [
    {
     "name": "stdout",
     "output_type": "stream",
     "text": [
      "(263676, 3)\n"
     ]
    }
   ],
   "source": [
    "WAdf_first_author .columns\n",
    "\n",
    "Numpub_first_author_journal = WAdf_first_author .groupby(['Journal','author_id'])['work_id'].nunique().reset_index()\n",
    "print(Numpub_first_author_journal .shape)"
   ]
  },
  {
   "cell_type": "code",
   "execution_count": 72,
   "id": "0ec9fef6-c8da-41ea-ad01-32927f4a5187",
   "metadata": {},
   "outputs": [
    {
     "name": "stdout",
     "output_type": "stream",
     "text": [
      "(172, 3)\n"
     ]
    }
   ],
   "source": [
    "Numpub_journal_first_author_distribution = Numpub_first_author_journal.groupby(['Journal','work_id'])['author_id'].nunique().reset_index()\n",
    "print(Numpub_journal_first_author_distribution .shape)"
   ]
  },
  {
   "cell_type": "code",
   "execution_count": 73,
   "id": "de7bb604-538d-4047-bde0-dae225c244aa",
   "metadata": {},
   "outputs": [
    {
     "name": "stdout",
     "output_type": "stream",
     "text": [
      "(60, 3)\n"
     ]
    }
   ],
   "source": [
    "Numpub_journal_first_author_distribution = Numpub_journal_first_author_distribution[Numpub_journal_first_author_distribution['work_id']<=20]\n",
    "print(Numpub_journal_first_author_distribution .shape)"
   ]
  },
  {
   "cell_type": "code",
   "execution_count": 74,
   "id": "c500876d-8690-43d7-be48-343a4f06dd9f",
   "metadata": {},
   "outputs": [
    {
     "data": {
      "text/plain": [
       "Index(['Journal', 'work_id', 'author_id'], dtype='object')"
      ]
     },
     "execution_count": 74,
     "metadata": {},
     "output_type": "execute_result"
    }
   ],
   "source": [
    "Numpub_journal_first_author_distribution .columns"
   ]
  },
  {
   "cell_type": "code",
   "execution_count": 82,
   "id": "9ab6c437-d0d5-411c-aef0-15ff334c204c",
   "metadata": {},
   "outputs": [
    {
     "name": "stderr",
     "output_type": "stream",
     "text": [
      "/var/folders/4g/t694bx_s0353zx81yggk1p680000gn/T/ipykernel_60722/1002943365.py:2: SettingWithCopyWarning: \n",
      "A value is trying to be set on a copy of a slice from a DataFrame.\n",
      "Try using .loc[row_indexer,col_indexer] = value instead\n",
      "\n",
      "See the caveats in the documentation: https://pandas.pydata.org/pandas-docs/stable/user_guide/indexing.html#returning-a-view-versus-a-copy\n",
      "  Numpub_journal_first_author_distribution_Nature['Totalfirstauthor'] = 91387\n",
      "/var/folders/4g/t694bx_s0353zx81yggk1p680000gn/T/ipykernel_60722/1002943365.py:3: SettingWithCopyWarning: \n",
      "A value is trying to be set on a copy of a slice from a DataFrame.\n",
      "Try using .loc[row_indexer,col_indexer] = value instead\n",
      "\n",
      "See the caveats in the documentation: https://pandas.pydata.org/pandas-docs/stable/user_guide/indexing.html#returning-a-view-versus-a-copy\n",
      "  Numpub_journal_first_author_distribution_Nature['AuthorShare'] = Numpub_journal_first_author_distribution_Nature['author_id']/Numpub_journal_first_author_distribution_Nature['Totalfirstauthor'] * 100\n",
      "/var/folders/4g/t694bx_s0353zx81yggk1p680000gn/T/ipykernel_60722/1002943365.py:6: SettingWithCopyWarning: \n",
      "A value is trying to be set on a copy of a slice from a DataFrame.\n",
      "Try using .loc[row_indexer,col_indexer] = value instead\n",
      "\n",
      "See the caveats in the documentation: https://pandas.pydata.org/pandas-docs/stable/user_guide/indexing.html#returning-a-view-versus-a-copy\n",
      "  Numpub_journal_first_author_distribution_Science['Totalfirstauthor'] = 73190\n",
      "/var/folders/4g/t694bx_s0353zx81yggk1p680000gn/T/ipykernel_60722/1002943365.py:7: SettingWithCopyWarning: \n",
      "A value is trying to be set on a copy of a slice from a DataFrame.\n",
      "Try using .loc[row_indexer,col_indexer] = value instead\n",
      "\n",
      "See the caveats in the documentation: https://pandas.pydata.org/pandas-docs/stable/user_guide/indexing.html#returning-a-view-versus-a-copy\n",
      "  Numpub_journal_first_author_distribution_Science['AuthorShare'] = Numpub_journal_first_author_distribution_Science['author_id']/Numpub_journal_first_author_distribution_Science['Totalfirstauthor'] * 100\n",
      "/var/folders/4g/t694bx_s0353zx81yggk1p680000gn/T/ipykernel_60722/1002943365.py:10: SettingWithCopyWarning: \n",
      "A value is trying to be set on a copy of a slice from a DataFrame.\n",
      "Try using .loc[row_indexer,col_indexer] = value instead\n",
      "\n",
      "See the caveats in the documentation: https://pandas.pydata.org/pandas-docs/stable/user_guide/indexing.html#returning-a-view-versus-a-copy\n",
      "  Numpub_journal_first_author_distribution_PNAS['Totalfirstauthor'] = 99099\n",
      "/var/folders/4g/t694bx_s0353zx81yggk1p680000gn/T/ipykernel_60722/1002943365.py:11: SettingWithCopyWarning: \n",
      "A value is trying to be set on a copy of a slice from a DataFrame.\n",
      "Try using .loc[row_indexer,col_indexer] = value instead\n",
      "\n",
      "See the caveats in the documentation: https://pandas.pydata.org/pandas-docs/stable/user_guide/indexing.html#returning-a-view-versus-a-copy\n",
      "  Numpub_journal_first_author_distribution_PNAS['AuthorShare'] = Numpub_journal_first_author_distribution_PNAS['author_id']/Numpub_journal_first_author_distribution_PNAS['Totalfirstauthor'] * 100\n"
     ]
    }
   ],
   "source": [
    "Numpub_journal_first_author_distribution_Nature = Numpub_journal_first_author_distribution[Numpub_journal_first_author_distribution['Journal']=='Nature']\n",
    "Numpub_journal_first_author_distribution_Nature['Totalfirstauthor'] = 91387\n",
    "Numpub_journal_first_author_distribution_Nature['AuthorShare'] = Numpub_journal_first_author_distribution_Nature['author_id']/Numpub_journal_first_author_distribution_Nature['Totalfirstauthor'] * 100\n",
    "\n",
    "Numpub_journal_first_author_distribution_Science = Numpub_journal_first_author_distribution[Numpub_journal_first_author_distribution['Journal']=='Science']\n",
    "Numpub_journal_first_author_distribution_Science['Totalfirstauthor'] = 73190\n",
    "Numpub_journal_first_author_distribution_Science['AuthorShare'] = Numpub_journal_first_author_distribution_Science['author_id']/Numpub_journal_first_author_distribution_Science['Totalfirstauthor'] * 100\n",
    "\n",
    "Numpub_journal_first_author_distribution_PNAS = Numpub_journal_first_author_distribution[Numpub_journal_first_author_distribution['Journal']=='Proceedings of the National Academy of Sciences']\n",
    "Numpub_journal_first_author_distribution_PNAS['Totalfirstauthor'] = 99099\n",
    "Numpub_journal_first_author_distribution_PNAS['AuthorShare'] = Numpub_journal_first_author_distribution_PNAS['author_id']/Numpub_journal_first_author_distribution_PNAS['Totalfirstauthor'] * 100\n"
   ]
  },
  {
   "cell_type": "code",
   "execution_count": 83,
   "id": "7c8d2d9d-105d-4d2b-9ea8-6d3d6cfa39d4",
   "metadata": {},
   "outputs": [
    {
     "data": {
      "text/html": [
       "<div>\n",
       "<style scoped>\n",
       "    .dataframe tbody tr th:only-of-type {\n",
       "        vertical-align: middle;\n",
       "    }\n",
       "\n",
       "    .dataframe tbody tr th {\n",
       "        vertical-align: top;\n",
       "    }\n",
       "\n",
       "    .dataframe thead th {\n",
       "        text-align: right;\n",
       "    }\n",
       "</style>\n",
       "<table border=\"1\" class=\"dataframe\">\n",
       "  <thead>\n",
       "    <tr style=\"text-align: right;\">\n",
       "      <th></th>\n",
       "      <th>Journal</th>\n",
       "      <th>work_id</th>\n",
       "      <th>author_id</th>\n",
       "      <th>Totalfirstauthor</th>\n",
       "      <th>AuthorShare</th>\n",
       "    </tr>\n",
       "  </thead>\n",
       "  <tbody>\n",
       "    <tr>\n",
       "      <th>65</th>\n",
       "      <td>Proceedings of the National Academy of Sciences</td>\n",
       "      <td>1</td>\n",
       "      <td>83988</td>\n",
       "      <td>99099</td>\n",
       "      <td>84.751612</td>\n",
       "    </tr>\n",
       "    <tr>\n",
       "      <th>66</th>\n",
       "      <td>Proceedings of the National Academy of Sciences</td>\n",
       "      <td>2</td>\n",
       "      <td>11117</td>\n",
       "      <td>99099</td>\n",
       "      <td>11.218075</td>\n",
       "    </tr>\n",
       "    <tr>\n",
       "      <th>67</th>\n",
       "      <td>Proceedings of the National Academy of Sciences</td>\n",
       "      <td>3</td>\n",
       "      <td>2458</td>\n",
       "      <td>99099</td>\n",
       "      <td>2.480348</td>\n",
       "    </tr>\n",
       "    <tr>\n",
       "      <th>68</th>\n",
       "      <td>Proceedings of the National Academy of Sciences</td>\n",
       "      <td>4</td>\n",
       "      <td>748</td>\n",
       "      <td>99099</td>\n",
       "      <td>0.754801</td>\n",
       "    </tr>\n",
       "    <tr>\n",
       "      <th>69</th>\n",
       "      <td>Proceedings of the National Academy of Sciences</td>\n",
       "      <td>5</td>\n",
       "      <td>306</td>\n",
       "      <td>99099</td>\n",
       "      <td>0.308782</td>\n",
       "    </tr>\n",
       "    <tr>\n",
       "      <th>70</th>\n",
       "      <td>Proceedings of the National Academy of Sciences</td>\n",
       "      <td>6</td>\n",
       "      <td>148</td>\n",
       "      <td>99099</td>\n",
       "      <td>0.149346</td>\n",
       "    </tr>\n",
       "    <tr>\n",
       "      <th>71</th>\n",
       "      <td>Proceedings of the National Academy of Sciences</td>\n",
       "      <td>7</td>\n",
       "      <td>81</td>\n",
       "      <td>99099</td>\n",
       "      <td>0.081736</td>\n",
       "    </tr>\n",
       "    <tr>\n",
       "      <th>72</th>\n",
       "      <td>Proceedings of the National Academy of Sciences</td>\n",
       "      <td>8</td>\n",
       "      <td>61</td>\n",
       "      <td>99099</td>\n",
       "      <td>0.061555</td>\n",
       "    </tr>\n",
       "    <tr>\n",
       "      <th>73</th>\n",
       "      <td>Proceedings of the National Academy of Sciences</td>\n",
       "      <td>9</td>\n",
       "      <td>36</td>\n",
       "      <td>99099</td>\n",
       "      <td>0.036327</td>\n",
       "    </tr>\n",
       "    <tr>\n",
       "      <th>74</th>\n",
       "      <td>Proceedings of the National Academy of Sciences</td>\n",
       "      <td>10</td>\n",
       "      <td>27</td>\n",
       "      <td>99099</td>\n",
       "      <td>0.027245</td>\n",
       "    </tr>\n",
       "    <tr>\n",
       "      <th>75</th>\n",
       "      <td>Proceedings of the National Academy of Sciences</td>\n",
       "      <td>11</td>\n",
       "      <td>14</td>\n",
       "      <td>99099</td>\n",
       "      <td>0.014127</td>\n",
       "    </tr>\n",
       "    <tr>\n",
       "      <th>76</th>\n",
       "      <td>Proceedings of the National Academy of Sciences</td>\n",
       "      <td>12</td>\n",
       "      <td>25</td>\n",
       "      <td>99099</td>\n",
       "      <td>0.025227</td>\n",
       "    </tr>\n",
       "    <tr>\n",
       "      <th>77</th>\n",
       "      <td>Proceedings of the National Academy of Sciences</td>\n",
       "      <td>13</td>\n",
       "      <td>13</td>\n",
       "      <td>99099</td>\n",
       "      <td>0.013118</td>\n",
       "    </tr>\n",
       "    <tr>\n",
       "      <th>78</th>\n",
       "      <td>Proceedings of the National Academy of Sciences</td>\n",
       "      <td>14</td>\n",
       "      <td>10</td>\n",
       "      <td>99099</td>\n",
       "      <td>0.010091</td>\n",
       "    </tr>\n",
       "    <tr>\n",
       "      <th>79</th>\n",
       "      <td>Proceedings of the National Academy of Sciences</td>\n",
       "      <td>15</td>\n",
       "      <td>8</td>\n",
       "      <td>99099</td>\n",
       "      <td>0.008073</td>\n",
       "    </tr>\n",
       "  </tbody>\n",
       "</table>\n",
       "</div>"
      ],
      "text/plain": [
       "                                            Journal  work_id  author_id  \\\n",
       "65  Proceedings of the National Academy of Sciences        1      83988   \n",
       "66  Proceedings of the National Academy of Sciences        2      11117   \n",
       "67  Proceedings of the National Academy of Sciences        3       2458   \n",
       "68  Proceedings of the National Academy of Sciences        4        748   \n",
       "69  Proceedings of the National Academy of Sciences        5        306   \n",
       "70  Proceedings of the National Academy of Sciences        6        148   \n",
       "71  Proceedings of the National Academy of Sciences        7         81   \n",
       "72  Proceedings of the National Academy of Sciences        8         61   \n",
       "73  Proceedings of the National Academy of Sciences        9         36   \n",
       "74  Proceedings of the National Academy of Sciences       10         27   \n",
       "75  Proceedings of the National Academy of Sciences       11         14   \n",
       "76  Proceedings of the National Academy of Sciences       12         25   \n",
       "77  Proceedings of the National Academy of Sciences       13         13   \n",
       "78  Proceedings of the National Academy of Sciences       14         10   \n",
       "79  Proceedings of the National Academy of Sciences       15          8   \n",
       "\n",
       "    Totalfirstauthor  AuthorShare  \n",
       "65             99099    84.751612  \n",
       "66             99099    11.218075  \n",
       "67             99099     2.480348  \n",
       "68             99099     0.754801  \n",
       "69             99099     0.308782  \n",
       "70             99099     0.149346  \n",
       "71             99099     0.081736  \n",
       "72             99099     0.061555  \n",
       "73             99099     0.036327  \n",
       "74             99099     0.027245  \n",
       "75             99099     0.014127  \n",
       "76             99099     0.025227  \n",
       "77             99099     0.013118  \n",
       "78             99099     0.010091  \n",
       "79             99099     0.008073  "
      ]
     },
     "execution_count": 83,
     "metadata": {},
     "output_type": "execute_result"
    }
   ],
   "source": [
    "Numpub_journal_first_author_distribution_PNAS .head(15)"
   ]
  }
 ],
 "metadata": {
  "kernelspec": {
   "display_name": "Python 3 (ipykernel)",
   "language": "python",
   "name": "python3"
  },
  "language_info": {
   "codemirror_mode": {
    "name": "ipython",
    "version": 3
   },
   "file_extension": ".py",
   "mimetype": "text/x-python",
   "name": "python",
   "nbconvert_exporter": "python",
   "pygments_lexer": "ipython3",
   "version": "3.11.8"
  }
 },
 "nbformat": 4,
 "nbformat_minor": 5
}
